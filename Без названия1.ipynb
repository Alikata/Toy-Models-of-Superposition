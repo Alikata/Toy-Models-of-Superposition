{
 "cells": [
  {
   "cell_type": "code",
   "execution_count": 9,
   "id": "d6a576aa",
   "metadata": {},
   "outputs": [],
   "source": [
    "import pandas as pd\n",
    "import numpy as np\n",
    "import torch\n",
    "import matplotlib.pyplot as plt\n",
    "\n",
    "from model import Model, learning"
   ]
  },
  {
   "cell_type": "code",
   "execution_count": 84,
   "id": "1b7b2608",
   "metadata": {},
   "outputs": [],
   "source": [
    "n = 400\n",
    "m = 30\n",
    "\n",
    "num = 10000\n",
    "\n",
    "number_of_s = 100\n",
    "\n",
    "S = torch.tensor(([[1/(i-1+1e-5)] for i in range(1,number_of_s+1)]))\n",
    "\n",
    "\n",
    "\n",
    "n_instances = len(S)\n",
    "\n",
    "X = np.random.rand(num, n)\n",
    "importances = torch.tensor([1 for k in range(n)])"
   ]
  },
  {
   "cell_type": "code",
   "execution_count": 85,
   "id": "b8be25e5",
   "metadata": {},
   "outputs": [
    {
     "name": "stderr",
     "output_type": "stream",
     "text": [
      "100%|█████████████████████████████████████| 10000/10000 [12:58<00:00, 12.84it/s]\n"
     ]
    }
   ],
   "source": [
    "no_linear_model = learning(Model(n, m, S,  n_instances), X, importances, 10000)"
   ]
  },
  {
   "cell_type": "code",
   "execution_count": 121,
   "id": "a26242c6",
   "metadata": {},
   "outputs": [],
   "source": [
    "def paint_(model, m, number_of_s):\n",
    "    y = m / torch.norm(model.W, p='fro', dim=[1,2]) ** 2\n",
    "    plt.plot(np.linspace(1, 10, number_of_s), y.detach().numpy())\n",
    "    \n",
    "    plt.xscale('log')\n",
    "    #plt.grid()"
   ]
  },
  {
   "cell_type": "code",
   "execution_count": 122,
   "id": "7f05b3f8",
   "metadata": {},
   "outputs": [
    {
     "data": {
      "image/png": "[encoded data removed]",
      "text/plain": [
       "<Figure size 432x288 with 1 Axes>"
      ]
     },
     "metadata": {
      "needs_background": "light"
     },
     "output_type": "display_data"
    }
   ],
   "source": [
    "paint_(no_linear_model, m, number_of_s)"
   ]
  },
  {
   "cell_type": "code",
   "execution_count": null,
   "id": "6db37c11",
   "metadata": {},
   "outputs": [],
   "source": []
  },
  {
   "cell_type": "code",
   "execution_count": 139,
   "id": "7e2ae80c",
   "metadata": {},
   "outputs": [],
   "source": [
    "def count_dimensionality(model):\n",
    "    \n",
    "    W = model.W.detach()\n",
    "    W_norm = torch.linalg.norm(W, 2, dim=-1, keepdim=True)\n",
    "    print(W_norm.shape)\n",
    "    interference = torch.einsum('ifh,igh->ifg', W / (1e-5 + W_norm), W)\n",
    "    interference[:, torch.arange(n), torch.arange(n)] = 0\n",
    "    polysemanticity = torch.linalg.norm(interference, dim=-1).cpu()\n",
    "    \n",
    "    print( W_norm.shape, polysemanticity.shape)\n",
    " \n",
    "    \n",
    "    D_tensor = (W_norm.reshape(W_norm.shape[0], W_norm.shape[1]) ** 2 )/ (polysemanticity ** 2)\n",
    "    print( D_tensor.shape)\n",
    "    plt.scatter(D_tensor, D_tensor)\n",
    "    return D_tensor"
   ]
  },
  {
   "cell_type": "code",
   "execution_count": 140,
   "id": "c28bf9f4",
   "metadata": {},
   "outputs": [
    {
     "name": "stdout",
     "output_type": "stream",
     "text": [
      "torch.Size([100, 400, 1])\n",
      "torch.Size([100, 400, 1]) torch.Size([100, 400])\n",
      "torch.Size([100, 400])\n"
     ]
    },
    {
     "data": {
      "image/png": "[encoded data removed]",
      "text/plain": [
       "<Figure size 432x288 with 1 Axes>"
      ]
     },
     "metadata": {
      "needs_background": "light"
     },
     "output_type": "display_data"
    }
   ],
   "source": [
    "a = count_dimensionality(no_linear_model)"
   ]
  },
  {
   "cell_type": "code",
   "execution_count": null,
   "id": "d7af6b6a",
   "metadata": {},
   "outputs": [],
   "source": []
  }
 ],
 "metadata": {
  "kernelspec": {
   "display_name": "Python 3 (ipykernel)",
   "language": "python",
   "name": "python3"
  },
  "language_info": {
   "codemirror_mode": {
    "name": "ipython",
    "version": 3
   },
   "file_extension": ".py",
   "mimetype": "text/x-python",
   "name": "python",
   "nbconvert_exporter": "python",
   "pygments_lexer": "ipython3",
   "version": "3.9.5"
  }
 },
 "nbformat": 4,
 "nbformat_minor": 5
}
