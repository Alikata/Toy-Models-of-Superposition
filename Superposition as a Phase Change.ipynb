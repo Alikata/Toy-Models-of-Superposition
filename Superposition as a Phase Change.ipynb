{
 "cells": [
  {
   "cell_type": "code",
   "execution_count": 437,
   "id": "c89012ef",
   "metadata": {},
   "outputs": [],
   "source": [
    "import numpy as np\n",
    "import torch\n",
    "import tqdm\n",
    "import torch.nn.utils\n",
    "import matplotlib.pyplot as plt\n",
    "import einops\n",
    "from torch.nn import functional as F\n",
    "\n",
    "from tqdm.notebook import trange, tqdm\n",
    "#from model.py import Model, learning"
   ]
  },
  {
   "cell_type": "code",
   "execution_count": 438,
   "id": "09c6bd7f",
   "metadata": {},
   "outputs": [],
   "source": [
    "class Model(torch.nn.Module):\n",
    "    def __init__(self,n_features, n_hidden, S, n_instances=10, active=True):\n",
    "        super().__init__()\n",
    "        self.W = torch.nn.Parameter(torch.empty((n_instances, n_features, n_hidden)))\n",
    "        torch.nn.init.xavier_normal_(self.W)\n",
    "        self.b_final = torch.nn.Parameter(torch.zeros((n_instances, n_features)))\n",
    "        self.active = active\n",
    "        \n",
    "        self.feature_probability = S\n",
    "        self.n_instances = n_instances\n",
    "        self.n_features = n_features\n",
    "    \n",
    "        \n",
    "    def forward(self, features):\n",
    "\n",
    "        hidden = torch.einsum(\"...if,ifh->...ih\", features, self.W)\n",
    "\n",
    "        out = torch.einsum(\"...ih,ifh->...if\", hidden, self.W)\n",
    "\n",
    "        out = out + self.b_final\n",
    "        if self.active:\n",
    "            out = F.relu(out)\n",
    "        return out\n",
    "    \n",
    "    def generate_batch(self, n_batch):\n",
    "        feat = torch.rand((n_batch, self.n_instances, self.n_features))\n",
    "       # print(feat)\n",
    "        spracity = torch.where(\n",
    "            torch.rand((n_batch, self.n_instances)) <= self.feature_probability.reshape(self.n_instances),\n",
    "            feat[:,:,-1],\n",
    "            torch.zeros(()))\n",
    "        \n",
    "            \n",
    "        feat[:,:,-1] = spracity\n",
    "       # print('new ',feat)\n",
    "\n",
    "        return feat"
   ]
  },
  {
   "cell_type": "code",
   "execution_count": 439,
   "id": "922c721e",
   "metadata": {},
   "outputs": [],
   "source": [
    "def learning(x, importances, n, m, n_instances, S, epoch=10000, lr=0.001, batch_size=100):\n",
    "    \n",
    "    models = []\n",
    "    for importance in tqdm(importances):\n",
    "        #print(importance)\n",
    "        model = Model(n, m, S,  n_instances)\n",
    "        optimizer = torch.optim.AdamW(model.parameters(), lr=lr)\n",
    "        for epoch in range(epoch):\n",
    "\n",
    "\n",
    "            optimizer.zero_grad()\n",
    "\n",
    "            batch = model.generate_batch(batch_size)\n",
    "\n",
    "            out = model(batch)\n",
    "\n",
    "            error = (importance*(batch.abs() - out)**2)\n",
    "            loss = einops.reduce(error, 'b i f -> i', 'mean').sum()\n",
    "\n",
    "            loss.backward() \n",
    "\n",
    "            optimizer.step() \n",
    "        models.append(model)\n",
    "    return models"
   ]
  },
  {
   "cell_type": "code",
   "execution_count": 448,
   "id": "72548415",
   "metadata": {},
   "outputs": [],
   "source": [
    "def paint_(no_linear_models, n_istances, importances, S):\n",
    "    colors = np.array([['darkorange' for x in range(n_istances)] for y in range(n_istances)])\n",
    "    W_norm_all = np.zeros((n_istances, n_istances))\n",
    "\n",
    "    polysemanticity_all = np.zeros((n_istances, n_istances))\n",
    "    W_all = np.zeros((n_istances, n_istances))\n",
    "    \n",
    "    for i in range(len(no_linear_models)):\n",
    "        W = no_linear_models[i].W.detach()\n",
    "        \n",
    "        W_norm = torch.linalg.norm(W, 2, dim=-1, keepdim=True)\n",
    "\n",
    "\n",
    "        interference = torch.einsum('ifh,igh->ifg', W / (1e-5 + W_norm), W)\n",
    "        interference[:, torch.arange(n), torch.arange(n)] = 0\n",
    "        polysemanticity = torch.linalg.norm(interference, dim=-1).cpu()\n",
    "        \n",
    "       \n",
    "        \n",
    "        W_norm_all[:,i] = W_norm[:,-1,-1]\n",
    "        polysemanticity_all[:,i] = polysemanticity[:,-1] \n",
    "        W_all[:,i] = W[:,-1,-1]\n",
    "\n",
    "\n",
    "\n",
    "    fig,(plot_ax, bar_ax) = plt.subplots(nrows=1,ncols=2,figsize=(8,4))\n",
    "    \n",
    "    x,y = np.meshgrid(\n",
    "    np.linspace(0,1,n_istances),\n",
    "    np.linspace(0,1,n_istances),\n",
    "        \n",
    ")\n",
    "\n",
    "    \n",
    "    plot_ax.imshow(np.dstack((polysemanticity_all, W_norm_all,  np.zeros_like(W_norm_all))),\n",
    "        aspect = 'auto',\n",
    "        extent = (0.01,10,0.1,1),\n",
    "    )\n",
    "    \n",
    "    \n",
    "    \n",
    "    bar_ax.imshow(np.dstack((x,y, np.zeros_like(x))),\n",
    "        extent = (\n",
    "            np.min(W_norm_all),np.max(W_norm_all),\n",
    "            np.min(polysemanticity_all), np.max(polysemanticity_all),\n",
    "        ),\n",
    "        aspect = 'auto',\n",
    "        origin = 'lower',\n",
    "    )\n",
    "\n",
    "    plot_ax.set_xlabel('Importance')\n",
    "    plot_ax.set_ylabel('Spracity')\n",
    "    \n",
    "    \n",
    "    bar_ax.set_xlabel('Polysemanticity')\n",
    "    bar_ax.set_ylabel('W_norm')\n",
    "    \n",
    "    return W_all, polysemanticity_all, W_norm_all"
   ]
  },
  {
   "cell_type": "code",
   "execution_count": 441,
   "id": "61e8d401",
   "metadata": {},
   "outputs": [],
   "source": [
    "n = 2\n",
    "m = 1\n",
    "I = 0.7\n",
    "num = 10000\n",
    "\n",
    "epoch = 10000\n",
    "\n",
    "n_instances = 40 # only even\n",
    "#S = torch.tensor(([[1.0], [0.3], [0.1], [0.03], [0.01], [0.003], [0.001]]))\n",
    "\n",
    "\n",
    "#S = torch.cat((torch.linspace(0.01, 0.1, n_instances // 2), torch.linspace(0.15, 1, n_instances // 2)))[:, None]\n",
    "\n",
    "S = torch.cat((torch.linspace(1, 0.15, n_instances // 2), torch.linspace(0.1, 0.01, n_instances // 2)))[:, None]\n",
    "\n",
    "\n",
    "\n",
    "X = np.random.rand(num, n)\n",
    "importances = torch.cat((torch.linspace(0.1, 1,  n_instances // 2), torch.linspace(1.5, 10, n_instances // 2)))[:, None]\n",
    "importances = torch.cat((torch.ones(importances.shape), importances), 1)"
   ]
  },
  {
   "cell_type": "code",
   "execution_count": 442,
   "id": "4ce01ee0",
   "metadata": {
    "scrolled": false
   },
   "outputs": [
    {
     "data": {
      "application/vnd.jupyter.widget-view+json": {
       "model_id": "53c8914f79e54335800af4de3060a4d2",
       "version_major": 2,
       "version_minor": 0
      },
      "text/plain": [
       "  0%|          | 0/40 [00:00<?, ?it/s]"
      ]
     },
     "metadata": {},
     "output_type": "display_data"
    }
   ],
   "source": [
    "no_linear_models = learning(X, importances,  n, m, n_instances, S, epoch)"
   ]
  },
  {
   "cell_type": "code",
   "execution_count": 449,
   "id": "5f71ebae",
   "metadata": {
    "scrolled": false
   },
   "outputs": [
    {
     "name": "stderr",
     "output_type": "stream",
     "text": [
      "Clipping input data to the valid range for imshow with RGB data ([0..1] for floats or [0..255] for integers).\n"
     ]
    },
    {
     "data": {
      "image/png": "[encoded data removed]",
      "text/plain": [
       "<Figure size 576x288 with 2 Axes>"
      ]
     },
     "metadata": {
      "needs_background": "light"
     },
     "output_type": "display_data"
    }
   ],
   "source": [
    "qwe = paint_(no_linear_models, n_instances, importances, S)"
   ]
  },
  {
   "cell_type": "code",
   "execution_count": null,
   "id": "4df4e1a4",
   "metadata": {},
   "outputs": [],
   "source": []
  }
 ],
 "metadata": {
  "kernelspec": {
   "display_name": "Python 3 (ipykernel)",
   "language": "python",
   "name": "python3"
  },
  "language_info": {
   "codemirror_mode": {
    "name": "ipython",
    "version": 3
   },
   "file_extension": ".py",
   "mimetype": "text/x-python",
   "name": "python",
   "nbconvert_exporter": "python",
   "pygments_lexer": "ipython3",
   "version": "3.9.5"
  }
 },
 "nbformat": 4,
 "nbformat_minor": 5
}
