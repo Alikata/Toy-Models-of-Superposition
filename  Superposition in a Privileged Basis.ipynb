{
 "cells": [
  {
   "cell_type": "markdown",
   "id": "b560286a",
   "metadata": {},
   "source": [
    "# Superposition in a Privileged Basis"
   ]
  },
  {
   "cell_type": "code",
   "execution_count": 47,
   "id": "3b8ce3c0",
   "metadata": {},
   "outputs": [],
   "source": [
    "import pandas as pd\n",
    "import numpy as np\n",
    "import torch\n",
    "import matplotlib.pyplot as plt\n",
    "import tqdm as tqdm\n",
    "import torch.nn.utils\n",
    "import einops\n",
    "from torch.nn import functional as F\n"
   ]
  },
  {
   "cell_type": "code",
   "execution_count": 48,
   "id": "a85f35ee",
   "metadata": {},
   "outputs": [],
   "source": [
    "class Model(torch.nn.Module):\n",
    "    def __init__(self,n_features, n_hidden, S, n_instances=10, \n",
    "active=True, hidd_active=True):\n",
    "        super().__init__()\n",
    "        self.W = torch.nn.Parameter(torch.empty((n_instances, n_features, \n",
    "n_hidden)))\n",
    "        torch.nn.init.xavier_normal_(self.W)\n",
    "        self.b_final = torch.nn.Parameter(torch.zeros((n_instances, \n",
    "n_features)))\n",
    "        self.active = active\n",
    "        \n",
    "        self.feature_probability = S\n",
    "        self.n_instances = n_instances\n",
    "        self.n_features = n_features\n",
    "        self.hidd_active = hidd_active\n",
    "        \n",
    "    def forward(self, features):\n",
    "\n",
    "        hidden = torch.einsum(\"...if,ifh->...ih\", features, self.W)\n",
    "        \n",
    "        if self.hidd_active:\n",
    "            hidden = F.relu(hidden)\n",
    "\n",
    "        out = torch.einsum(\"...ih,ifh->...if\", hidden, self.W)\n",
    "\n",
    "        out = out + self.b_final\n",
    "        if self.active:\n",
    "            out = F.relu(out)\n",
    "        return out\n",
    "    \n",
    "    def generate_batch(self, n_batch):\n",
    "        feat = torch.rand((n_batch, self.n_instances, self.n_features))\n",
    "        batch = torch.where(\n",
    "            torch.rand((n_batch, self.n_instances, self.n_features)) <= \n",
    "self.feature_probability,\n",
    "            feat,\n",
    "            torch.zeros(()),\n",
    "        )\n",
    "        return batch\n"
   ]
  },
  {
   "cell_type": "code",
   "execution_count": 49,
   "id": "34b7bb96",
   "metadata": {},
   "outputs": [],
   "source": [
    "def learning(model, x, importances, n, epoch=10000, lr=0.001, \n",
    "batch_size=1024\n",
    "             ):\n",
    "    optimizer = torch.optim.AdamW(model.parameters(), lr=lr)\n",
    "\n",
    "\n",
    "    for epoch in tqdm.tqdm(range(epoch)):\n",
    "\n",
    "    \n",
    "\n",
    "        optimizer.zero_grad()\n",
    "\n",
    "        batch = model.generate_batch(batch_size)\n",
    "\n",
    "        \n",
    "        out = model(batch)\n",
    "        \n",
    "        error = (importances*(batch.abs() - out)**2)\n",
    "        loss = einops.reduce(error, 'b i f -> i', 'mean').sum()\n",
    "        \n",
    "        loss.backward() \n",
    "\n",
    "        optimizer.step()\n",
    "    return model\n",
    "\n",
    "        \n"
   ]
  },
  {
   "cell_type": "markdown",
   "id": "107fee1a",
   "metadata": {},
   "source": [
    "### n = 5, m = 5"
   ]
  },
  {
   "cell_type": "code",
   "execution_count": 84,
   "id": "9ced3fcf",
   "metadata": {},
   "outputs": [],
   "source": [
    "n = 8\n",
    "m = 5\n",
    "\n",
    "num = 10000\n",
    "\n",
    "n_instances = 1\n",
    "S =  (20 ** -torch.linspace(0, 1, n_instances))[:, None]\n",
    "\n",
    "\n",
    "n_instances = len(S)\n",
    "\n",
    "X = np.random.rand(num, n)\n",
    "importances = torch.tensor([1 for k in range(n)])"
   ]
  },
  {
   "cell_type": "code",
   "execution_count": 92,
   "id": "92d0c1ae",
   "metadata": {},
   "outputs": [
    {
     "name": "stderr",
     "output_type": "stream",
     "text": [
      "100%|███████████████████████████████| 1000000/1000000 [06:30<00:00, 2562.48it/s]\n"
     ]
    }
   ],
   "source": [
    "model = Model(n, m, S,  n_instances)\n",
    "model_ =  learning(model, X, importances, n, 1000000)"
   ]
  },
  {
   "cell_type": "code",
   "execution_count": 93,
   "id": "9593d71e",
   "metadata": {},
   "outputs": [
    {
     "data": {
      "image/png": "[encoded data removed]",
      "text/plain": [
       "<Figure size 288x460.8 with 2 Axes>"
      ]
     },
     "metadata": {
      "needs_background": "light"
     },
     "output_type": "display_data"
    }
   ],
   "source": [
    "plt.matshow(model_.W.detach().numpy()[0])\n",
    "plt.colorbar(ticks=[-1, -0.5, 0, 0.5, 1])\n",
    "plt.clim(-1,1)"
   ]
  },
  {
   "cell_type": "code",
   "execution_count": 56,
   "id": "f6df43cb",
   "metadata": {},
   "outputs": [
    {
     "data": {
      "image/png": "[encoded data removed]",
      "text/plain": [
       "<Figure size 288x288 with 2 Axes>"
      ]
     },
     "metadata": {
      "needs_background": "light"
     },
     "output_type": "display_data"
    }
   ],
   "source": [
    "plt.matshow(model_.W.detach().numpy()[0])\n",
    "plt.colorbar(ticks=[-1, -0.5, 0, 0.5, 1])\n",
    "plt.clim(-1,1)\n",
    "plt.savefig(\"RELU55.pdf\", format=\"pdf\", bbox_inches=\"tight\")\n",
    "plt.show()"
   ]
  },
  {
   "cell_type": "code",
   "execution_count": 35,
   "id": "49a6d1c4",
   "metadata": {},
   "outputs": [
    {
     "data": {
      "text/plain": [
       "<matplotlib.colorbar.Colorbar at 0x7fd3213a67c0>"
      ]
     },
     "execution_count": 35,
     "metadata": {},
     "output_type": "execute_result"
    },
    {
     "data": {
      "image/png": "[encoded data removed]",
      "text/plain": [
       "<Figure size 288x288 with 2 Axes>"
      ]
     },
     "metadata": {
      "needs_background": "light"
     },
     "output_type": "display_data"
    }
   ],
   "source": [
    "plt.matshow(model_.W.detach().numpy()[0])\n",
    "plt.colorbar()"
   ]
  },
  {
   "cell_type": "code",
   "execution_count": 82,
   "id": "0fe82d28",
   "metadata": {},
   "outputs": [
    {
     "name": "stderr",
     "output_type": "stream",
     "text": [
      "100%|█████████████████████████████████| 100000/100000 [00:36<00:00, 2775.91it/s]\n"
     ]
    }
   ],
   "source": [
    "model = Model(n, m, S,  n_instances, \\\n",
    "         hidd_active=False)\n",
    "model_no_ac =  learning(model, X, importances, n, 100000)"
   ]
  },
  {
   "cell_type": "code",
   "execution_count": 83,
   "id": "5c3a283b",
   "metadata": {
    "scrolled": true
   },
   "outputs": [
    {
     "data": {
      "image/png": "[encoded data removed]",
      "text/plain": [
       "<Figure size 288x288 with 2 Axes>"
      ]
     },
     "metadata": {
      "needs_background": "light"
     },
     "output_type": "display_data"
    }
   ],
   "source": [
    "plt.matshow(model_no_ac.W.detach().numpy()[0])\n",
    "plt.colorbar(ticks=[-1, -0.5, 0, 0.5, 1])\n",
    "plt.clim(-1,1)\n",
    "plt.savefig(\"noRELU55.pdf\", format=\"pdf\", bbox_inches=\"tight\")\n",
    "plt.show()"
   ]
  },
  {
   "cell_type": "code",
   "execution_count": null,
   "id": "cbe309b7",
   "metadata": {},
   "outputs": [],
   "source": []
  },
  {
   "cell_type": "code",
   "execution_count": null,
   "id": "0da463e4",
   "metadata": {},
   "outputs": [],
   "source": []
  },
  {
   "cell_type": "markdown",
   "id": "ca2e2265",
   "metadata": {},
   "source": [
    "### n = 6, m = 5"
   ]
  },
  {
   "cell_type": "code",
   "execution_count": 59,
   "id": "8dd2a22d",
   "metadata": {},
   "outputs": [],
   "source": [
    "n = 6\n",
    "m = 5\n",
    "\n",
    "num = 10000\n",
    "\n",
    "n_instances = 1\n",
    "S =  (20 ** -torch.linspace(0, 1, n_instances))[:, None]\n",
    "\n",
    "\n",
    "n_instances = len(S)\n",
    "\n",
    "X = np.random.rand(num, n)\n",
    "importances = torch.tensor([1 for k in range(n)])"
   ]
  },
  {
   "cell_type": "code",
   "execution_count": 60,
   "id": "6ea85bf4",
   "metadata": {},
   "outputs": [
    {
     "name": "stderr",
     "output_type": "stream",
     "text": [
      "100%|█████████████████████████████████| 100000/100000 [00:37<00:00, 2656.45it/s]\n"
     ]
    }
   ],
   "source": [
    "model = Model(n, m, S,  n_instances)\n",
    "model_ =  learning(model, X, importances, n, 100000)"
   ]
  },
  {
   "cell_type": "code",
   "execution_count": 61,
   "id": "14263637",
   "metadata": {},
   "outputs": [
    {
     "data": {
      "image/png": "[encoded data removed]",
      "text/plain": [
       "<Figure size 288x345.6 with 2 Axes>"
      ]
     },
     "metadata": {
      "needs_background": "light"
     },
     "output_type": "display_data"
    }
   ],
   "source": [
    "plt.matshow(model_.W.detach().numpy()[0])\n",
    "plt.colorbar(ticks=[-1, -0.5, 0, 0.5, 1])\n",
    "plt.clim(-1,1)\n",
    "plt.savefig(\"RELU65.pdf\", format=\"pdf\")\n",
    "plt.show()"
   ]
  },
  {
   "cell_type": "code",
   "execution_count": 58,
   "id": "8334e419",
   "metadata": {},
   "outputs": [
    {
     "data": {
      "text/plain": [
       "<matplotlib.colorbar.Colorbar at 0x7fd3598a3c40>"
      ]
     },
     "execution_count": 58,
     "metadata": {},
     "output_type": "execute_result"
    },
    {
     "data": {
      "image/png": "[encoded data removed]",
      "text/plain": [
       "<Figure size 288x345.6 with 2 Axes>"
      ]
     },
     "metadata": {
      "needs_background": "light"
     },
     "output_type": "display_data"
    }
   ],
   "source": [
    "plt.matshow(model_.W.detach().numpy()[0])\n",
    "plt.colorbar(ticks=[-1, -0.5, 0, 0.5, 1])"
   ]
  },
  {
   "cell_type": "code",
   "execution_count": null,
   "id": "9ccc6e61",
   "metadata": {},
   "outputs": [],
   "source": []
  },
  {
   "cell_type": "code",
   "execution_count": 62,
   "id": "be2a9841",
   "metadata": {},
   "outputs": [
    {
     "name": "stderr",
     "output_type": "stream",
     "text": [
      "100%|█████████████████████████████████| 100000/100000 [00:36<00:00, 2709.93it/s]\n"
     ]
    }
   ],
   "source": [
    "model = Model(n, m, S,  n_instances, \\\n",
    "         hidd_active=False)\n",
    "model_no_ac =  learning(model, X, importances, n, 100000)"
   ]
  },
  {
   "cell_type": "code",
   "execution_count": 63,
   "id": "ee1a48d8",
   "metadata": {},
   "outputs": [
    {
     "data": {
      "image/png": "[encoded data removed]",
      "text/plain": [
       "<Figure size 288x345.6 with 2 Axes>"
      ]
     },
     "metadata": {
      "needs_background": "light"
     },
     "output_type": "display_data"
    }
   ],
   "source": [
    "plt.matshow(model_no_ac.W.detach().numpy()[0])\n",
    "plt.colorbar(ticks=[-1, -0.5, 0, 0.5, 1])\n",
    "plt.clim(-1,1)\n",
    "plt.savefig(\"noRELU65.pdf\", format=\"pdf\")\n",
    "plt.show()"
   ]
  },
  {
   "cell_type": "code",
   "execution_count": 42,
   "id": "ca41559d",
   "metadata": {},
   "outputs": [
    {
     "data": {
      "text/plain": [
       "<matplotlib.colorbar.Colorbar at 0x7fd341a03f40>"
      ]
     },
     "execution_count": 42,
     "metadata": {},
     "output_type": "execute_result"
    },
    {
     "data": {
      "image/png": "[encoded data removed]",
      "text/plain": [
       "<Figure size 288x345.6 with 2 Axes>"
      ]
     },
     "metadata": {
      "needs_background": "light"
     },
     "output_type": "display_data"
    }
   ],
   "source": [
    "plt.matshow(model_no_ac.W.detach().numpy()[0])\n",
    "plt.colorbar(ticks=[-1, -0.5, 0, 0.5, 1])"
   ]
  },
  {
   "cell_type": "code",
   "execution_count": null,
   "id": "796be0b3",
   "metadata": {},
   "outputs": [],
   "source": []
  },
  {
   "cell_type": "code",
   "execution_count": null,
   "id": "934a2013",
   "metadata": {},
   "outputs": [],
   "source": []
  },
  {
   "cell_type": "code",
   "execution_count": null,
   "id": "39fe66c7",
   "metadata": {},
   "outputs": [],
   "source": []
  },
  {
   "cell_type": "markdown",
   "id": "38bb8c56",
   "metadata": {},
   "source": [
    "### n = 8, m = 5"
   ]
  },
  {
   "cell_type": "code",
   "execution_count": 76,
   "id": "7b8095bd",
   "metadata": {},
   "outputs": [],
   "source": [
    "n = 8\n",
    "m = 5\n",
    "\n",
    "num = 10000\n",
    "\n",
    "n_instances = 1\n",
    "S =  (20 ** -torch.linspace(0, 1, n_instances))[:, None]\n",
    "\n",
    "\n",
    "n_instances = len(S)\n",
    "\n",
    "X = np.random.rand(num, n)\n",
    "importances = torch.tensor([1 for k in range(n)])"
   ]
  },
  {
   "cell_type": "code",
   "execution_count": 77,
   "id": "7fac9417",
   "metadata": {},
   "outputs": [
    {
     "name": "stderr",
     "output_type": "stream",
     "text": [
      "100%|█████████████████████████████████| 100000/100000 [00:40<00:00, 2472.26it/s]\n"
     ]
    }
   ],
   "source": [
    "model = Model(n, m, S,  n_instances)\n",
    "model_ =  learning(model, X, importances, n, 100000)"
   ]
  },
  {
   "cell_type": "code",
   "execution_count": 75,
   "id": "afe9b1b9",
   "metadata": {},
   "outputs": [
    {
     "data": {
      "text/plain": [
       "Parameter containing:\n",
       "tensor([[[ 5.9198e-01,  4.8045e-01, -2.2433e-01,  2.0438e-01, -2.2850e-01],\n",
       "         [ 9.7851e-02,  6.8332e-02,  1.9351e-01,  1.1485e-01,  1.5967e-01],\n",
       "         [-4.9317e-02, -5.0204e-04, -1.6308e-02,  9.2307e-01,  1.3030e-02],\n",
       "         [ 8.5033e-02,  8.5262e-02,  1.8983e-01,  2.0461e-01,  9.0430e-02],\n",
       "         [ 7.9165e-01, -2.4135e-01,  2.2104e-01, -1.4646e-01,  2.2135e-01],\n",
       "         [-7.4686e-02,  3.3596e-02,  9.0430e-01,  6.9944e-02, -8.4395e-02],\n",
       "         [-5.0221e-02,  2.2258e-04, -1.0031e-01,  7.6083e-02,  9.1788e-01],\n",
       "         [-1.2142e-01,  8.4635e-01,  1.2080e-01, -1.8809e-01,  1.7515e-01]]],\n",
       "       requires_grad=True)"
      ]
     },
     "execution_count": 75,
     "metadata": {},
     "output_type": "execute_result"
    }
   ],
   "source": [
    "model_.W"
   ]
  },
  {
   "cell_type": "code",
   "execution_count": 78,
   "id": "e978c449",
   "metadata": {},
   "outputs": [
    {
     "data": {
      "image/png": "[encoded data removed]",
      "text/plain": [
       "<Figure size 288x460.8 with 2 Axes>"
      ]
     },
     "metadata": {
      "needs_background": "light"
     },
     "output_type": "display_data"
    }
   ],
   "source": [
    "plt.matshow(model_.W.detach().numpy()[0])\n",
    "plt.colorbar(ticks=[-1, -0.5, 0, 0.5, 1])\n",
    "plt.clim(-1,1)\n",
    "plt.savefig(\"RELU85.pdf\", format=\"pdf\")\n",
    "plt.show()"
   ]
  },
  {
   "cell_type": "code",
   "execution_count": null,
   "id": "4e172765",
   "metadata": {},
   "outputs": [],
   "source": []
  },
  {
   "cell_type": "code",
   "execution_count": null,
   "id": "3effe7d3",
   "metadata": {},
   "outputs": [],
   "source": []
  },
  {
   "cell_type": "code",
   "execution_count": 37,
   "id": "d092490b",
   "metadata": {},
   "outputs": [
    {
     "data": {
      "text/plain": [
       "<matplotlib.colorbar.Colorbar at 0x7f8dac2ece50>"
      ]
     },
     "execution_count": 37,
     "metadata": {},
     "output_type": "execute_result"
    },
    {
     "data": {
      "image/png": "[encoded data removed]",
      "text/plain": [
       "<Figure size 288x460.8 with 2 Axes>"
      ]
     },
     "metadata": {
      "needs_background": "light"
     },
     "output_type": "display_data"
    }
   ],
   "source": [
    "plt.matshow(model_.W.detach().numpy()[0])\n",
    "plt.colorbar(ticks=[-1, -0.5, 0, 0.5, 1])"
   ]
  },
  {
   "cell_type": "code",
   "execution_count": 65,
   "id": "31370ecb",
   "metadata": {},
   "outputs": [
    {
     "data": {
      "text/plain": [
       "<matplotlib.colorbar.Colorbar at 0x7fd343360d60>"
      ]
     },
     "execution_count": 65,
     "metadata": {},
     "output_type": "execute_result"
    },
    {
     "data": {
      "image/png": "[encoded data removed]",
      "text/plain": [
       "<Figure size 288x460.8 with 2 Axes>"
      ]
     },
     "metadata": {
      "needs_background": "light"
     },
     "output_type": "display_data"
    }
   ],
   "source": [
    "plt.matshow(model_.W.detach().numpy()[0])\n",
    "plt.colorbar(ticks=[-1, -0.5, 0, 0.5, 1])"
   ]
  },
  {
   "cell_type": "code",
   "execution_count": null,
   "id": "d9a7276e",
   "metadata": {},
   "outputs": [],
   "source": []
  },
  {
   "cell_type": "code",
   "execution_count": 79,
   "id": "5cc730c7",
   "metadata": {},
   "outputs": [
    {
     "name": "stderr",
     "output_type": "stream",
     "text": [
      "100%|█████████████████████████████████| 100000/100000 [00:39<00:00, 2523.82it/s]\n"
     ]
    }
   ],
   "source": [
    "model = Model(n, m, S,  n_instances, \\\n",
    "         hidd_active=False)\n",
    "model_no_ac =  learning(model, X, importances, n, 100000)"
   ]
  },
  {
   "cell_type": "code",
   "execution_count": 80,
   "id": "fb3c4923",
   "metadata": {},
   "outputs": [
    {
     "data": {
      "image/png": "[encoded data removed]",
      "text/plain": [
       "<Figure size 288x460.8 with 2 Axes>"
      ]
     },
     "metadata": {
      "needs_background": "light"
     },
     "output_type": "display_data"
    }
   ],
   "source": [
    "plt.matshow(model_no_ac.W.detach().numpy()[0])\n",
    "plt.colorbar(ticks=[-1, -0.5, 0, 0.5, 1])\n",
    "plt.clim(-1,1)\n",
    "plt.savefig(\"noRELU85.pdf\", format=\"pdf\")\n",
    "plt.show()"
   ]
  },
  {
   "cell_type": "code",
   "execution_count": null,
   "id": "937a5354",
   "metadata": {},
   "outputs": [],
   "source": []
  },
  {
   "cell_type": "code",
   "execution_count": null,
   "id": "f28f3f23",
   "metadata": {},
   "outputs": [],
   "source": []
  },
  {
   "cell_type": "code",
   "execution_count": 46,
   "id": "272a9d4c",
   "metadata": {},
   "outputs": [
    {
     "data": {
      "text/plain": [
       "<matplotlib.colorbar.Colorbar at 0x175fbb940>"
      ]
     },
     "execution_count": 46,
     "metadata": {},
     "output_type": "execute_result"
    },
    {
     "data": {
      "image/png": "[encoded data removed]",
      "text/plain": [
       "<Figure size 288x460.8 with 2 Axes>"
      ]
     },
     "metadata": {
      "needs_background": "light"
     },
     "output_type": "display_data"
    }
   ],
   "source": [
    "plt.matshow(model_no_ac.W.detach().numpy()[0])\n",
    "plt.colorbar(ticks=[-1, -0.5, 0, 0.5, 1])\n"
   ]
  },
  {
   "cell_type": "code",
   "execution_count": 67,
   "id": "5633bc6e",
   "metadata": {},
   "outputs": [
    {
     "data": {
      "text/plain": [
       "<matplotlib.colorbar.Colorbar at 0x7fd359970ee0>"
      ]
     },
     "execution_count": 67,
     "metadata": {},
     "output_type": "execute_result"
    },
    {
     "data": {
      "image/png": "[encoded data removed]",
      "text/plain": [
       "<Figure size 288x460.8 with 2 Axes>"
      ]
     },
     "metadata": {
      "needs_background": "light"
     },
     "output_type": "display_data"
    }
   ],
   "source": [
    "plt.matshow(model_no_ac.W.detach().numpy()[0])\n",
    "plt.colorbar(ticks=[-1, -0.5, 0, 0.5, 1])\n",
    "\n"
   ]
  },
  {
   "cell_type": "code",
   "execution_count": null,
   "id": "7e4dd6a1",
   "metadata": {},
   "outputs": [],
   "source": []
  },
  {
   "cell_type": "code",
   "execution_count": null,
   "id": "649d0bd9",
   "metadata": {},
   "outputs": [],
   "source": []
  },
  {
   "cell_type": "code",
   "execution_count": null,
   "id": "b733a508",
   "metadata": {},
   "outputs": [],
   "source": []
  },
  {
   "cell_type": "code",
   "execution_count": null,
   "id": "68379ac9",
   "metadata": {},
   "outputs": [],
   "source": []
  },
  {
   "cell_type": "markdown",
   "id": "78af8f1f",
   "metadata": {},
   "source": [
    "### VISUALIZING SUPERPOSITION IN TERMS OF NEURONS"
   ]
  },
  {
   "cell_type": "code",
   "execution_count": 35,
   "id": "11cdc132",
   "metadata": {},
   "outputs": [],
   "source": [
    "n = 10\n",
    "m = 5\n",
    "\n",
    "num = 10000\n",
    "\n",
    "n_instances = 10\n",
    "S =  (30 ** -torch.linspace(0, 1, n_instances))[:, None]\n",
    "\n",
    "\n",
    "X = np.random.rand(num, n)\n",
    "importances = torch.tensor([0.75**k for k in range(n)])"
   ]
  },
  {
   "cell_type": "code",
   "execution_count": 36,
   "id": "fe7bd920",
   "metadata": {},
   "outputs": [
    {
     "data": {
      "text/plain": [
       "tensor([1.0000, 0.7500, 0.5625, 0.4219, 0.3164, 0.2373, 0.1780, 0.1335, 0.1001,\n",
       "        0.0751])"
      ]
     },
     "execution_count": 36,
     "metadata": {},
     "output_type": "execute_result"
    }
   ],
   "source": [
    "importances"
   ]
  },
  {
   "cell_type": "code",
   "execution_count": 37,
   "id": "19570eb1",
   "metadata": {},
   "outputs": [
    {
     "data": {
      "text/plain": [
       "tensor([[1.0000],\n",
       "        [0.6853],\n",
       "        [0.4696],\n",
       "        [0.3218],\n",
       "        [0.2205],\n",
       "        [0.1511],\n",
       "        [0.1036],\n",
       "        [0.0710],\n",
       "        [0.0486],\n",
       "        [0.0333]])"
      ]
     },
     "execution_count": 37,
     "metadata": {},
     "output_type": "execute_result"
    }
   ],
   "source": [
    "S"
   ]
  },
  {
   "cell_type": "code",
   "execution_count": 38,
   "id": "467f61d3",
   "metadata": {},
   "outputs": [
    {
     "name": "stderr",
     "output_type": "stream",
     "text": [
      "100%|██████████████████████████████████| 100000/100000 [03:20<00:00, 498.52it/s]\n"
     ]
    }
   ],
   "source": [
    "model_ner_term = Model(n, m, S,  n_instances)\n",
    "model_ner_term_train =  learning(model_ner_term , X, importances, n, 100000)"
   ]
  },
  {
   "cell_type": "code",
   "execution_count": 40,
   "id": "8a44fdf1",
   "metadata": {},
   "outputs": [
    {
     "data": {
      "image/png": "[encoded data removed]",
      "text/plain": [
       "<Figure size 288x576 with 2 Axes>"
      ]
     },
     "metadata": {
      "needs_background": "light"
     },
     "output_type": "display_data"
    },
    {
     "data": {
      "image/png": "[encoded data removed]",
      "text/plain": [
       "<Figure size 288x576 with 2 Axes>"
      ]
     },
     "metadata": {
      "needs_background": "light"
     },
     "output_type": "display_data"
    },
    {
     "data": {
      "image/png": "[encoded data removed]",
      "text/plain": [
       "<Figure size 288x576 with 2 Axes>"
      ]
     },
     "metadata": {
      "needs_background": "light"
     },
     "output_type": "display_data"
    },
    {
     "data": {
      "image/png": "[encoded data removed]",
      "text/plain": [
       "<Figure size 288x576 with 2 Axes>"
      ]
     },
     "metadata": {
      "needs_background": "light"
     },
     "output_type": "display_data"
    },
    {
     "data": {
      "image/png": "[encoded data removed]",
      "text/plain": [
       "<Figure size 288x576 with 2 Axes>"
      ]
     },
     "metadata": {
      "needs_background": "light"
     },
     "output_type": "display_data"
    },
    {
     "data": {
      "image/png": "[encoded data removed]",
      "text/plain": [
       "<Figure size 288x576 with 2 Axes>"
      ]
     },
     "metadata": {
      "needs_background": "light"
     },
     "output_type": "display_data"
    },
    {
     "data": {
      "image/png": "[encoded data removed]",
      "text/plain": [
       "<Figure size 288x576 with 2 Axes>"
      ]
     },
     "metadata": {
      "needs_background": "light"
     },
     "output_type": "display_data"
    },
    {
     "data": {
      "image/png": "[encoded data removed]",
      "text/plain": [
       "<Figure size 288x576 with 2 Axes>"
      ]
     },
     "metadata": {
      "needs_background": "light"
     },
     "output_type": "display_data"
    },
    {
     "data": {
      "image/png": "[encoded data removed]",
      "text/plain": [
       "<Figure size 288x576 with 2 Axes>"
      ]
     },
     "metadata": {
      "needs_background": "light"
     },
     "output_type": "display_data"
    },
    {
     "data": {
      "image/png": "[encoded data removed]",
      "text/plain": [
       "<Figure size 288x576 with 2 Axes>"
      ]
     },
     "metadata": {
      "needs_background": "light"
     },
     "output_type": "display_data"
    }
   ],
   "source": [
    "for i in range(n_instances):\n",
    "    plt.matshow(model_ner_term_train.W.detach().numpy()[i])\n",
    "    plt.colorbar(ticks=[-1, -0.5, 0, 0.5, 1])"
   ]
  },
  {
   "cell_type": "code",
   "execution_count": null,
   "id": "0defd687",
   "metadata": {},
   "outputs": [],
   "source": []
  }
 ],
 "metadata": {
  "kernelspec": {
   "display_name": "Python 3 (ipykernel)",
   "language": "python",
   "name": "python3"
  },
  "language_info": {
   "codemirror_mode": {
    "name": "ipython",
    "version": 3
   },
   "file_extension": ".py",
   "mimetype": "text/x-python",
   "name": "python",
   "nbconvert_exporter": "python",
   "pygments_lexer": "ipython3",
   "version": "3.9.19"
  }
 },
 "nbformat": 4,
 "nbformat_minor": 5
}
